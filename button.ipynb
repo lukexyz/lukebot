{
 "cells": [
  {
   "attachments": {},
   "cell_type": "markdown",
   "metadata": {},
   "source": [
    "### 💬 Using `pycord` 2.0   \n",
    "A fork of discord.py. [Pycord](https://github.com/Pycord-Development/pycord) is a modern, easy to use, feature-rich, and async ready API wrapper for Discord written in Python.  \n",
    "> `!pip install py-cord`"
   ]
  },
  {
   "cell_type": "code",
   "execution_count": 1,
   "metadata": {},
   "outputs": [
    {
     "name": "stdout",
     "output_type": "stream",
     "text": [
      "namebaby#4590 is online 💅\n"
     ]
    }
   ],
   "source": [
    "import os\n",
    "import openai\n",
    "import nest_asyncio\n",
    "from IPython.display import Markdown\n",
    "\n",
    "\n",
    "# Apply the nest_asyncio patch\n",
    "nest_asyncio.apply()\n",
    "\n",
    "DISCORD_TOKEN = os.getenv('DISCORD_TOKEN_NAMEBABY')\n",
    "OPENAI_API_KEY = os.getenv('OPENAI_API_KEY')\n",
    "TARGET_CHANNEL_ID = int(os.getenv('DISCORD_CHANNEL_ID_NAMEBABY'))\n",
    "\n",
    "import discord\n",
    "from discord.ext import commands \n",
    "from discord.ui import Button, View\n",
    "\n",
    "bot = discord.Bot()\n",
    "\n",
    "@bot.event\n",
    "async def on_ready():\n",
    "    print(f\"{bot.user} is online 💅\")\n",
    "    channel = bot.get_channel(TARGET_CHANNEL_ID)\n",
    "    await channel.send(\"bot is online 💅\")\n",
    "\n",
    "\n",
    "class MyView(View): # view class with buttons\n",
    "    def __init__(self):\n",
    "        super().__init__()\n",
    "        \n",
    "        for i in range(5):\n",
    "            for j in range(5):\n",
    "                self.add_item(Button(label=f\"{i}{j}\"))\n",
    "\n",
    "\n",
    "@bot.slash_command() # /run command\n",
    "async def run(ctx):\n",
    "    view = MyView()\n",
    "    await ctx.respond(f\"Hi\", view=view)\n",
    "\n",
    "\n",
    "@bot.slash_command() # mainbaby channel\n",
    "async def hello(ctx, name: str = None):\n",
    "\n",
    "    button1 = Button(label=\"Click me!\", style=discord.ButtonStyle.green, emoji=\"👋\")\n",
    "    async def button1_callback(interaction):\n",
    "        await interaction.response.send_message(\"Button clicked!\")\n",
    "    button1.callback = button1_callback\n",
    "\n",
    "    button2 = Button(label=\"Button 2\", emoji=\"🌐\")\n",
    "    async def button2_callback(interaction):\n",
    "        await interaction.channel.send(\"button 2 clicked!\")\n",
    "    button2.callback = button2_callback\n",
    "\n",
    "    view = View()\n",
    "    view.add_item(button1)\n",
    "    view.add_item(button2)\n",
    "\n",
    "    name = name or ctx.author.name\n",
    "    await ctx.respond(f\"Hello {name}!\", view=view)\n",
    "\n",
    "\n",
    "@bot.event\n",
    "async def on_message(message): # private message\n",
    "    if message.content.startswith(\"!ping\"):\n",
    "        await message.channel.send(\"Pong!\")\n",
    "\n",
    "    elif message.content.startswith(\"/test\"):\n",
    "        await message.channel.send('test successful')\n",
    "\n",
    "\n",
    "\n",
    "bot.run(DISCORD_TOKEN)"
   ]
  },
  {
   "cell_type": "code",
   "execution_count": null,
   "metadata": {},
   "outputs": [],
   "source": []
  },
  {
   "cell_type": "code",
   "execution_count": null,
   "metadata": {},
   "outputs": [],
   "source": []
  },
  {
   "cell_type": "code",
   "execution_count": null,
   "metadata": {},
   "outputs": [],
   "source": []
  },
  {
   "cell_type": "code",
   "execution_count": null,
   "metadata": {},
   "outputs": [],
   "source": []
  }
 ],
 "metadata": {
  "kernelspec": {
   "display_name": "lukebot",
   "language": "python",
   "name": "python3"
  },
  "language_info": {
   "codemirror_mode": {
    "name": "ipython",
    "version": 3
   },
   "file_extension": ".py",
   "mimetype": "text/x-python",
   "name": "python",
   "nbconvert_exporter": "python",
   "pygments_lexer": "ipython3",
   "version": "3.10.9"
  },
  "orig_nbformat": 4
 },
 "nbformat": 4,
 "nbformat_minor": 2
}
