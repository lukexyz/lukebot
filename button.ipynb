{
 "cells": [
  {
   "attachments": {},
   "cell_type": "markdown",
   "metadata": {},
   "source": [
    "### 💬 Using `pycord` 2.0   \n",
    "A fork of discord.py. Pycord is a modern, easy to use, feature-rich, and async ready API wrapper for Discord written in Python.  \n",
    "* [github/pycord](https://github.com/Pycord-Development/pycord)\n",
    "* `!pip install py-cord`"
   ]
  },
  {
   "cell_type": "code",
   "execution_count": 1,
   "metadata": {},
   "outputs": [
    {
     "name": "stdout",
     "output_type": "stream",
     "text": [
      "namebaby#4590 is online 💅\n"
     ]
    }
   ],
   "source": [
    "import os\n",
    "import openai\n",
    "import nest_asyncio\n",
    "from IPython.display import Markdown\n",
    "\n",
    "\n",
    "# Apply the nest_asyncio patch\n",
    "nest_asyncio.apply()\n",
    "\n",
    "DISCORD_TOKEN = os.getenv('DISCORD_TOKEN_NAMEBABY')\n",
    "OPENAI_API_KEY = os.getenv('OPENAI_API_KEY')\n",
    "TARGET_CHANNEL_ID = int(os.getenv('DISCORD_CHANNEL_ID_NAMEBABY'))\n",
    "\n",
    "import discord\n",
    "from discord.ext import commands \n",
    "\n",
    "bot = discord.Bot()\n",
    "\n",
    "@bot.event\n",
    "async def on_ready():\n",
    "    print(f\"{bot.user} is online 💅\")\n",
    "\n",
    "@bot.slash_command()\n",
    "async def hello(ctx, name: str = None):\n",
    "    name = name or ctx.author.name\n",
    "    await ctx.respond(f\"Hello {name}!\")\n",
    "\n",
    "\n",
    "@bot.event\n",
    "async def on_message(message):\n",
    "    if message.content.startswith(\"!ping\"):\n",
    "        await message.channel.send(\"Pong!\")\n",
    "\n",
    "    elif message.content.startswith(\"!announce\"):\n",
    "        if len(message.content.split(\" \")) < 3:\n",
    "            await message.channel.send(\"You need to specify a title and a message. Correct usage: `!announce Hello Hello everyone!`\")\n",
    "            return\n",
    "\n",
    "        msg = message.content.split(\" \", 2)\n",
    "        title = msg[1]\n",
    "        content = msg[2]\n",
    "\n",
    "        await message.channel.send(\"**{}**\\n{}\".format(title, content))\n",
    "\n",
    "    elif message.content.startswith(\"!\"):\n",
    "        await message.channel.send(\"Unknown command.\")\n",
    "        \n",
    "bot.run(DISCORD_TOKEN)"
   ]
  },
  {
   "cell_type": "code",
   "execution_count": null,
   "metadata": {},
   "outputs": [],
   "source": []
  },
  {
   "cell_type": "code",
   "execution_count": null,
   "metadata": {},
   "outputs": [],
   "source": []
  },
  {
   "cell_type": "code",
   "execution_count": null,
   "metadata": {},
   "outputs": [],
   "source": []
  },
  {
   "cell_type": "code",
   "execution_count": null,
   "metadata": {},
   "outputs": [],
   "source": []
  }
 ],
 "metadata": {
  "kernelspec": {
   "display_name": "lukebot",
   "language": "python",
   "name": "python3"
  },
  "language_info": {
   "codemirror_mode": {
    "name": "ipython",
    "version": 3
   },
   "file_extension": ".py",
   "mimetype": "text/x-python",
   "name": "python",
   "nbconvert_exporter": "python",
   "pygments_lexer": "ipython3",
   "version": "3.10.9"
  },
  "orig_nbformat": 4
 },
 "nbformat": 4,
 "nbformat_minor": 2
}
