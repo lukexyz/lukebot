{
 "cells": [
  {
   "cell_type": "code",
   "execution_count": 1,
   "metadata": {},
   "outputs": [],
   "source": [
    "import os\n",
    "import openai"
   ]
  },
  {
   "cell_type": "code",
   "execution_count": 2,
   "metadata": {},
   "outputs": [],
   "source": [
    "OPENAI_API_KEY = os.getenv('OPENAI_API_KEY')\n",
    "openai.api_key = OPENAI_API_KEY"
   ]
  },
  {
   "cell_type": "code",
   "execution_count": 4,
   "metadata": {},
   "outputs": [],
   "source": [
    "def ask_gpt(model, system_prompt, question):\n",
    "    conversation = [\n",
    "        {\"role\": \"system\", \"content\": system_prompt},\n",
    "        {\"role\": \"user\", \"content\": question}\n",
    "    ]\n",
    "\n",
    "    response = openai.ChatCompletion.create(\n",
    "        model=model,\n",
    "        messages=conversation\n",
    "    )\n",
    "\n",
    "    assistant_response = response['choices'][0]['message']['content']\n",
    "    return assistant_response\n"
   ]
  },
  {
   "cell_type": "code",
   "execution_count": 5,
   "metadata": {},
   "outputs": [
    {
     "name": "stdout",
     "output_type": "stream",
     "text": [
      "🤖 The capital of France is Paris. 🇫🇷\n"
     ]
    }
   ],
   "source": [
    "\n",
    "model = \"gpt-3.5-turbo\"\n",
    "system_prompt = \"You are an AI assistant. Include emojis in your replies.\"\n",
    "question = \"What is the capital of France?\"\n",
    "\n",
    "answer = ask_gpt(model, system_prompt, question)\n",
    "print(answer)"
   ]
  },
  {
   "cell_type": "code",
   "execution_count": 17,
   "metadata": {},
   "outputs": [
    {
     "name": "stdout",
     "output_type": "stream",
     "text": [
      "The capital of New Zealand is Wellington.\n",
      "Your first question was \"What about the capital of New Zealand?\" and your second question was \"What were my last two questions?\"\n"
     ]
    }
   ],
   "source": [
    "\n",
    "def ask_gpt(model, system_prompt, question, conversation_history=None, max_history=3):\n",
    "    if conversation_history is None:\n",
    "        conversation_history = []\n",
    "\n",
    "    # Truncate conversation_history if it exceeds the limit\n",
    "    if len(conversation_history) > max_history:\n",
    "        conversation_history = conversation_history[-max_history:]\n",
    "\n",
    "    conversation = [\n",
    "        {\"role\": \"system\", \"content\": system_prompt},\n",
    "        *conversation_history,\n",
    "        {\"role\": \"user\", \"content\": question}\n",
    "    ]\n",
    "\n",
    "    response = openai.ChatCompletion.create(\n",
    "        model=model,\n",
    "        messages=conversation,\n",
    "        max_tokens=256,\n",
    "        temperature=0.8,\n",
    "        top_p=1,\n",
    "    )\n",
    "\n",
    "    assistant_response = response['choices'][0]['message']['content']\n",
    "    \n",
    "    # Update the conversation history\n",
    "    conversation_history.append({\"role\": \"assistant\", \"content\": assistant_response})\n",
    "    conversation_history.append({\"role\": \"user\", \"content\": question})\n",
    "\n",
    "    return assistant_response, conversation_history\n",
    "\n",
    "# Usage example\n",
    "model_name = \"gpt-3.5-turbo\"\n",
    "system_prompt = \"You are a helpful assistant.\"\n",
    "question = \"What about the capital of New Zealand?\"\n",
    "\n",
    "response, convo_history = ask_gpt(model_name, system_prompt, question)\n",
    "print(response)\n",
    "\n",
    "question = \"What were my last two questions?\"\n",
    "response, convo_history = ask_gpt(model_name, system_prompt, question, conversation_history=convo_history)\n",
    "print(response)"
   ]
  },
  {
   "cell_type": "code",
   "execution_count": 18,
   "metadata": {},
   "outputs": [
    {
     "name": "stdout",
     "output_type": "stream",
     "text": [
      "| **Question** | **Answer** |\n",
      "|--------------|------------|\n",
      "| What about the capital of New Zealand? | The capital of New Zealand is Wellington. |\n",
      "| What were my last two questions? | Your first question was \"What about the capital of New Zealand?\" and your second question was \"What were my last two questions?\" |\n"
     ]
    }
   ],
   "source": [
    "question3 = \"Can you provide me the last two questions and the answer (verbatim) you gave, in a markdown table\"\n",
    "response3, convo_history = ask_gpt(model_name, system_prompt, question3, conversation_history=convo_history)\n",
    "print(response3)"
   ]
  },
  {
   "cell_type": "code",
   "execution_count": null,
   "metadata": {},
   "outputs": [],
   "source": []
  }
 ],
 "metadata": {
  "kernelspec": {
   "display_name": "base",
   "language": "python",
   "name": "python3"
  },
  "language_info": {
   "codemirror_mode": {
    "name": "ipython",
    "version": 3
   },
   "file_extension": ".py",
   "mimetype": "text/x-python",
   "name": "python",
   "nbconvert_exporter": "python",
   "pygments_lexer": "ipython3",
   "version": "3.10.9"
  },
  "orig_nbformat": 4
 },
 "nbformat": 4,
 "nbformat_minor": 2
}
