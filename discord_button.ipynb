{
 "cells": [
  {
   "cell_type": "code",
   "execution_count": 1,
   "metadata": {},
   "outputs": [],
   "source": [
    "import os\n",
    "import openai\n",
    "import discord\n",
    "import nest_asyncio\n",
    "from discord.ext import commands\n",
    "from IPython.display import Markdown\n",
    "\n",
    "\n",
    "# Apply the nest_asyncio patch\n",
    "nest_asyncio.apply()\n",
    "\n",
    "DISCORD_TOKEN = os.getenv('DISCORD_TOKEN_NAMEBABY')\n",
    "OPENAI_API_KEY = os.getenv('OPENAI_API_KEY')\n",
    "TARGET_CHANNEL_ID = int(os.getenv('DISCORD_CHANNEL_ID_NAMEBABY'))\n",
    "\n",
    "\n",
    "import discord\n",
    "from discord.ext import commands \n",
    "\n",
    "client=commands.Bot(command_prefix=\".\", intents=discord.Intents.all())\n",
    "\n",
    "class Buttons(discord.ui.View):\n",
    "    def __init__(self, *, timeout=180):\n",
    "        super().__init__(timeout=timeout)\n",
    "    @discord.ui.button(label=\"Button\",style=discord.ButtonStyle.gray)\n",
    "    async def gray_button(self,button:discord.ui.Button,interaction:discord.Interaction):\n",
    "        await interaction.response.edit_message(content=f\"This is an edited button response!\")\n",
    "\n",
    "@client.command()\n",
    "async def button(ctx):\n",
    "    await ctx.send(\"This message has buttons!\",view=Buttons())\n",
    "\n",
    "await client.start(DISCORD_TOKEN)"
   ]
  },
  {
   "cell_type": "code",
   "execution_count": null,
   "metadata": {},
   "outputs": [],
   "source": []
  }
 ],
 "metadata": {
  "kernelspec": {
   "display_name": "lukebot",
   "language": "python",
   "name": "python3"
  },
  "language_info": {
   "codemirror_mode": {
    "name": "ipython",
    "version": 3
   },
   "file_extension": ".py",
   "mimetype": "text/x-python",
   "name": "python",
   "nbconvert_exporter": "python",
   "pygments_lexer": "ipython3",
   "version": "3.10.9"
  },
  "orig_nbformat": 4
 },
 "nbformat": 4,
 "nbformat_minor": 2
}
