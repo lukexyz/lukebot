{
 "cells": [
  {
   "cell_type": "code",
   "execution_count": 1,
   "metadata": {},
   "outputs": [],
   "source": [
    "import os\n",
    "import openai\n",
    "import discord\n",
    "import nest_asyncio\n",
    "from discord.ext import commands\n",
    "from IPython.display import Markdown\n",
    "\n",
    "\n",
    "# Apply the nest_asyncio patch\n",
    "nest_asyncio.apply()\n",
    "\n",
    "DISCORD_TOKEN = os.getenv('DISCORD_TOKEN_NAMEBABY')\n",
    "OPENAI_API_KEY = os.getenv('OPENAI_API_KEY')\n",
    "TARGET_CHANNEL_ID = int(os.getenv('DISCORD_CHANNEL_ID_NAMEBABY'))\n",
    "\n",
    "\n",
    "import discord\n",
    "from discord.ext import commands \n",
    "\n",
    "client=commands.Bot(command_prefix=\".\", intents=discord.Intents.all())\n",
    "\n",
    "\n",
    "class Buttons(discord.ui.View):\n",
    "        def __init__(self, *, timeout=180):\n",
    "            super().__init__(timeout=timeout)\n",
    "\n",
    "        @discord.ui.button(label=\"clickme\",style=discord.ButtonStyle.green)\n",
    "        async def my_button(self, button:discord.ui.Button, interaction:discord.Interaction):\n",
    "            await interaction.response.send_message(content=f\"You clicked me!\")\n",
    "\n",
    "class Clickme(commands.Cog):\n",
    "    def __init__(self, bot):\n",
    "        self.bot = bot\n",
    "    \n",
    "    @commands.Cog.listener()\n",
    "    async def on_ready(self):\n",
    "        print('Clickme cog loaded')\n",
    "    \n",
    "    @commands.command()\n",
    "    async def click(self, ctx):\n",
    "        await ctx.send(\"Message with a button\", view=Buttons())\n",
    "\n",
    "\n",
    "\n",
    "@client.command()\n",
    "async def button(ctx):\n",
    "    await ctx.send(\"This message has buttons!\",view=Buttons())\n",
    "\n",
    "await client.start(DISCORD_TOKEN)"
   ]
  },
  {
   "cell_type": "code",
   "execution_count": 4,
   "metadata": {},
   "outputs": [
    {
     "ename": "AttributeError",
     "evalue": "module 'discord' has no attribute 'Bot'",
     "output_type": "error",
     "traceback": [
      "\u001b[1;31m---------------------------------------------------------------------------\u001b[0m",
      "\u001b[1;31mAttributeError\u001b[0m                            Traceback (most recent call last)",
      "Cell \u001b[1;32mIn[4], line 3\u001b[0m\n\u001b[0;32m      1\u001b[0m \u001b[39mimport\u001b[39;00m \u001b[39mdiscord\u001b[39;00m\n\u001b[1;32m----> 3\u001b[0m bot \u001b[39m=\u001b[39m discord\u001b[39m.\u001b[39;49mBot() \u001b[39m# Create a bot object\u001b[39;00m\n\u001b[0;32m      5\u001b[0m \u001b[39mclass\u001b[39;00m \u001b[39mMyView\u001b[39;00m(discord\u001b[39m.\u001b[39mui\u001b[39m.\u001b[39mView): \u001b[39m# Create a class called MyView that subclasses discord.ui.View\u001b[39;00m\n\u001b[0;32m      6\u001b[0m     \u001b[39m@discord\u001b[39m\u001b[39m.\u001b[39mui\u001b[39m.\u001b[39mbutton(label\u001b[39m=\u001b[39m\u001b[39m\"\u001b[39m\u001b[39mClick me!\u001b[39m\u001b[39m\"\u001b[39m, style\u001b[39m=\u001b[39mdiscord\u001b[39m.\u001b[39mButtonStyle\u001b[39m.\u001b[39mprimary, emoji\u001b[39m=\u001b[39m\u001b[39m\"\u001b[39m\u001b[39m😎\u001b[39m\u001b[39m\"\u001b[39m) \u001b[39m# Create a button with the label \"😎 Click me!\" with color Blurple\u001b[39;00m\n\u001b[0;32m      7\u001b[0m     \u001b[39masync\u001b[39;00m \u001b[39mdef\u001b[39;00m \u001b[39mbutton_callback\u001b[39m(\u001b[39mself\u001b[39m, button, interaction):\n",
      "\u001b[1;31mAttributeError\u001b[0m: module 'discord' has no attribute 'Bot'"
     ]
    }
   ],
   "source": [
    "import discord\n",
    "\n",
    "bot = discord.Bot() # Create a bot object\n",
    "\n",
    "class MyView(discord.ui.View): # Create a class called MyView that subclasses discord.ui.View\n",
    "    @discord.ui.button(label=\"Click me!\", style=discord.ButtonStyle.primary, emoji=\"😎\") # Create a button with the label \"😎 Click me!\" with color Blurple\n",
    "    async def button_callback(self, button, interaction):\n",
    "        await interaction.response.send_message(\"You clicked the button!\") # Send a message when the button is clicked\n",
    "\n",
    "@bot.slash_command() # Create a slash command\n",
    "async def button(ctx):\n",
    "    await ctx.respond(\"This is a button!\", view=MyView()) # Send a message with our View class that contains the button\n",
    "\n",
    "bot.run(\"DISCORD_TOKEN\") # Run the bot"
   ]
  },
  {
   "cell_type": "code",
   "execution_count": 5,
   "metadata": {},
   "outputs": [
    {
     "ename": "AttributeError",
     "evalue": "module 'discord' has no attribute 'Bot'",
     "output_type": "error",
     "traceback": [
      "\u001b[1;31m---------------------------------------------------------------------------\u001b[0m",
      "\u001b[1;31mAttributeError\u001b[0m                            Traceback (most recent call last)",
      "Cell \u001b[1;32mIn[5], line 6\u001b[0m\n\u001b[0;32m      3\u001b[0m \u001b[39mfrom\u001b[39;00m \u001b[39mdotenv\u001b[39;00m \u001b[39mimport\u001b[39;00m load_dotenv\n\u001b[0;32m      5\u001b[0m load_dotenv() \u001b[39m# load all the variables from the env file\u001b[39;00m\n\u001b[1;32m----> 6\u001b[0m bot \u001b[39m=\u001b[39m discord\u001b[39m.\u001b[39;49mBot()\n\u001b[0;32m      8\u001b[0m \u001b[39m@bot\u001b[39m\u001b[39m.\u001b[39mevent\n\u001b[0;32m      9\u001b[0m \u001b[39masync\u001b[39;00m \u001b[39mdef\u001b[39;00m \u001b[39mon_ready\u001b[39m():\n\u001b[0;32m     10\u001b[0m     \u001b[39mprint\u001b[39m(\u001b[39mf\u001b[39m\u001b[39m\"\u001b[39m\u001b[39m{\u001b[39;00mbot\u001b[39m.\u001b[39muser\u001b[39m}\u001b[39;00m\u001b[39m is ready and online!\u001b[39m\u001b[39m\"\u001b[39m)\n",
      "\u001b[1;31mAttributeError\u001b[0m: module 'discord' has no attribute 'Bot'"
     ]
    }
   ],
   "source": [
    "import discord\n",
    "import os # default module\n",
    "from dotenv import load_dotenv\n",
    "\n",
    "load_dotenv() # load all the variables from the env file\n",
    "bot = discord.Bot()\n",
    "\n",
    "@bot.event\n",
    "async def on_ready():\n",
    "    print(f\"{bot.user} is ready and online!\")\n",
    "\n",
    "@bot.slash_command(name = \"hello\", description = \"Say hello to the bot\")\n",
    "async def hello(ctx):\n",
    "    await ctx.respond(\"Hey!\")\n",
    "\n",
    "bot.run(os.getenv('TOKEN')) # run the bot with the token"
   ]
  },
  {
   "cell_type": "code",
   "execution_count": null,
   "metadata": {},
   "outputs": [],
   "source": []
  }
 ],
 "metadata": {
  "kernelspec": {
   "display_name": "lukebot",
   "language": "python",
   "name": "python3"
  },
  "language_info": {
   "codemirror_mode": {
    "name": "ipython",
    "version": 3
   },
   "file_extension": ".py",
   "mimetype": "text/x-python",
   "name": "python",
   "nbconvert_exporter": "python",
   "pygments_lexer": "ipython3",
   "version": "3.10.9"
  },
  "orig_nbformat": 4
 },
 "nbformat": 4,
 "nbformat_minor": 2
}
