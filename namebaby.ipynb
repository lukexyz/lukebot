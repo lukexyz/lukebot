{
 "cells": [
  {
   "cell_type": "code",
   "execution_count": 23,
   "metadata": {},
   "outputs": [],
   "source": [
    "import openai\n",
    "import os\n",
    "from IPython.display import Markdown\n",
    "\n",
    "OPENAI_API_KEY = os.getenv('OPENAI_API_KEY')\n",
    "openai.api_key = OPENAI_API_KEY\n",
    "\n",
    "def ask_gpt(model, system_prompt, question, conversation_history=None, max_history=5):\n",
    "    if conversation_history is None:\n",
    "        conversation_history = []\n",
    "\n",
    "    # Truncate conversation_history if it exceeds the limit\n",
    "    if len(conversation_history) > max_history:\n",
    "        conversation_history = conversation_history[-max_history:]\n",
    "\n",
    "    conversation = [\n",
    "        {\"role\": \"system\", \"content\": system_prompt},\n",
    "        *conversation_history,\n",
    "        {\"role\": \"user\", \"content\": question}\n",
    "    ]\n",
    "\n",
    "    response = openai.ChatCompletion.create(\n",
    "        model=model,\n",
    "        messages=conversation,\n",
    "        max_tokens=150,                 # one token is roughly 4 characters\n",
    "        temperature=1.0,\n",
    "        top_p=1,\n",
    "    )\n",
    "\n",
    "    assistant_response = response['choices'][0]['message']['content']\n",
    "    \n",
    "    # Update the conversation history\n",
    "    conversation_history.append({\"role\": \"assistant\", \"content\": assistant_response})\n",
    "    conversation_history.append({\"role\": \"user\", \"content\": question})\n",
    "\n",
    "    return assistant_response, conversation_history\n"
   ]
  },
  {
   "cell_type": "code",
   "execution_count": 2,
   "metadata": {},
   "outputs": [
    {
     "name": "stdout",
     "output_type": "stream",
     "text": [
      "Sure, here are some categories of names that you may want to explore:\n",
      "\n",
      "1. Classic names: These are names that have been in use for generations and have a timeless feel. Examples include Elizabeth, William, Catherine, and James.\n",
      "\n",
      "2. Nature-inspired names: These names draw inspiration from the natural world, such as River, Rose, or Skylar.\n",
      "\n",
      "3. Modern names: These names tend to be more recent and reflect current trends. Examples include Luna, Maverick, Aria, and Grayson.\n",
      "\n",
      "4. Names with meaningful origins: Some parents choose names based on their meanings or origins, such as Gabriel (Hebrew for \"God is my strength\") or Ava (Latin for \"life\").\n",
      "\n",
      "5. Unisex names: These names\n"
     ]
    }
   ],
   "source": [
    "\n",
    "# Usage example\n",
    "model_name = \"gpt-3.5-turbo\"\n",
    "# model_name = \"gpt-4\"\n",
    "system_prompt = \"You are a helpful assistant that provides new parents with baby name suggestions.\"\n",
    "\n",
    "question = \"Can you give me some categories of names that I could investigate?\"\n",
    "response, convo_history = ask_gpt(model_name, system_prompt, question)\n",
    "print(response)\n"
   ]
  },
  {
   "cell_type": "code",
   "execution_count": 6,
   "metadata": {},
   "outputs": [
    {
     "name": "stdout",
     "output_type": "stream",
     "text": [
      "Sure, here are 10 classic and nature-inspired names for boys:\n",
      "\n",
      "1. Jasper - inspired by the name of a gemstone and also after the beautiful natural park in Canada.\n",
      "2. Forrest - means \"woodland\" and is a classic name for boys.\n",
      "3. Phoenix - inspired by the mythical bird and is also the name of a city in Arizona.\n",
      "4. Asher - a biblical name that means \"happy\" or \"blessed\" and also refers to trees or groves of trees.\n",
      "5. River - a name that is inspired by natural waterways and is also a popular unisex name.\n",
      "6. Orion - inspired by the constellation named after a hunter in Greek mythology.\n",
      "7. Leo - meaning \"lion\", a\n"
     ]
    }
   ],
   "source": [
    "question = \"Can you suggest me a list of 10 boys names which are both classic and nature inspired?\"\n",
    "response, convo_history = ask_gpt(model_name, system_prompt, question)\n",
    "print(response)"
   ]
  },
  {
   "cell_type": "code",
   "execution_count": 7,
   "metadata": {},
   "outputs": [
    {
     "name": "stdout",
     "output_type": "stream",
     "text": [
      "Absolutely! Here are 10 more boys names that are similar to the names on your list:\n",
      "\n",
      "1. Leo\n",
      "2. Jasper\n",
      "3. Silas\n",
      "4. Caspian\n",
      "5. August\n",
      "6. Ezra\n",
      "7. Atlas\n",
      "8. Phoenix\n",
      "9. Leonidas\n",
      "10. Orion\n",
      "\n",
      "I hope these suggestions are helpful in finding the perfect name for your baby boy!\n"
     ]
    }
   ],
   "source": [
    "question = \"\"\" This is my list of favourite boys names: \n",
    "---\n",
    "Adam, Felix, Odin, Membrillo\n",
    "---\n",
    "Can you please give me 10 more boys names that are similar to these?\n",
    "\"\"\"\n",
    "response, convo_history = ask_gpt(model_name, system_prompt, question)\n",
    "print(response)"
   ]
  },
  {
   "cell_type": "code",
   "execution_count": 8,
   "metadata": {},
   "outputs": [
    {
     "name": "stdout",
     "output_type": "stream",
     "text": [
      "Sure! Here are 10 earthy boy names to consider:\n",
      "\n",
      "1. Jasper\n",
      "2. Orion\n",
      "3. Sage\n",
      "4. Asher\n",
      "5. Cedar\n",
      "6. Terra\n",
      "7. River\n",
      "8. Forrest\n",
      "9. Phoenix\n",
      "10. Canyon\n"
     ]
    }
   ],
   "source": [
    "question = \"\"\" User: Can you make them sound more earthy?\n",
    "---\n",
    "[System] Provide a list of 10 boys names\n",
    "---\n",
    "\"\"\"\n",
    "response, convo_history = ask_gpt(model_name, system_prompt, question)\n",
    "print(response)"
   ]
  },
  {
   "cell_type": "code",
   "execution_count": 3,
   "metadata": {},
   "outputs": [
    {
     "name": "stdout",
     "output_type": "stream",
     "text": [
      "Absolutely! Here are some reasons why Remi is a fantastic name for your baby:\n",
      "\n",
      "1. Unique and Modern: Remi is a trendy and unique name with a modern feel. It's a great pick for parents who want a name that's not too common, but also not too out there.\n",
      "\n",
      "2. Easy to Pronounce: Remi is a simple and easy-to-pronounce name, which is important for your child's schooling and other activities.\n",
      "\n",
      "3. Gender-Neutral: Remi is a gender-neutral name, which means it's a great choice for parents who want a name that can be used for either a boy or a girl.\n",
      "\n",
      "4. A Great Meaning: The name Remi has French roots and means \"oarsman\n"
     ]
    }
   ],
   "source": [
    "question = \"\"\" User: I like the name Remi, can you convince me using all the best reasons why it's a great name?\n",
    "\"\"\"\n",
    "response, convo_history = ask_gpt(model_name, system_prompt, question)\n",
    "print(response)"
   ]
  },
  {
   "cell_type": "code",
   "execution_count": 22,
   "metadata": {},
   "outputs": [
    {
     "data": {
      "text/markdown": [
       "- **Remi** is a more unique and less common name, giving your child a sense of individuality, while **Sophie** is a popular name that many other children may share.\n",
       "- **Remi** is a gender-neutral name, allowing for more flexibility and personal identity exploration, whereas **Sophie** is traditionally seen as a feminine name.\n",
       "- **Remi** has a modern and sophisticated sound, making it a great choice for parents looking for a name that feels fresh and current, while **Sophie** has a more classic and timeless feel.\n",
       "- **Remi** is easier to pronounce and spell, which can make life simpler for your child in various situations, while **Sophie** may require more corrections in terms of"
      ],
      "text/plain": [
       "<IPython.core.display.Markdown object>"
      ]
     },
     "execution_count": 22,
     "metadata": {},
     "output_type": "execute_result"
    }
   ],
   "source": [
    "question = \"\"\"\n",
    "[System Instructions]\n",
    "Always bold the names using **double asterisks**.\n",
    "    For example: **Remi** is a great name, as is **Sophie**.\n",
    "Use bullet points for each reason.\n",
    "Do not begin with an introduction, just start with the first reason.\n",
    "---\n",
    " User: I like the name Remi, can you convince me it's a better name (for me) than my second choice: Sophie?\n",
    "\n",
    "\"\"\"\n",
    "model_name='gpt-4'\n",
    "response, convo_history = ask_gpt(model_name, system_prompt, question)\n",
    "Markdown(response)"
   ]
  },
  {
   "cell_type": "code",
   "execution_count": null,
   "metadata": {},
   "outputs": [],
   "source": []
  },
  {
   "cell_type": "code",
   "execution_count": 3,
   "metadata": {},
   "outputs": [
    {
     "name": "stdout",
     "output_type": "stream",
     "text": [
      "We have logged in as namebaby#4590\n",
      "incoming: /test\n"
     ]
    }
   ],
   "source": [
    "import os\n",
    "import openai\n",
    "import discord\n",
    "import nest_asyncio\n",
    "from discord.ext import commands\n",
    "from IPython.display import Markdown\n",
    "\n",
    "OPENAI_API_KEY = os.getenv('OPENAI_API_KEY')\n",
    "openai.api_key = OPENAI_API_KEY\n",
    "\n",
    "def ask_gpt(model, system_prompt, question, conversation_history=None, max_history=5):\n",
    "    if conversation_history is None:\n",
    "        conversation_history = []\n",
    "\n",
    "    # Truncate conversation_history if it exceeds the limit\n",
    "    if len(conversation_history) > max_history:\n",
    "        conversation_history = conversation_history[-max_history:]\n",
    "\n",
    "    conversation = [\n",
    "        {\"role\": \"system\", \"content\": system_prompt},\n",
    "        *conversation_history,\n",
    "        {\"role\": \"user\", \"content\": question}\n",
    "    ]\n",
    "\n",
    "    response = openai.ChatCompletion.create(\n",
    "        model=model,\n",
    "        messages=conversation,\n",
    "        max_tokens=150,                 # one token is roughly 4 characters\n",
    "        temperature=1.0,\n",
    "        top_p=1,\n",
    "    )\n",
    "\n",
    "    assistant_response = response['choices'][0]['message']['content']\n",
    "    \n",
    "    # Update the conversation history\n",
    "    conversation_history.append({\"role\": \"assistant\", \"content\": assistant_response})\n",
    "    conversation_history.append({\"role\": \"user\", \"content\": question})\n",
    "\n",
    "    return assistant_response, conversation_history\n",
    "\n",
    "\n",
    "# Apply the nest_asyncio patch\n",
    "nest_asyncio.apply()\n",
    "\n",
    "DISCORD_TOKEN = os.getenv('DISCORD_TOKEN_NAMEBABY')\n",
    "OPENAI_API_KEY = os.getenv('OPENAI_API_KEY')\n",
    "TARGET_CHANNEL_ID = int(os.getenv('DISCORD_CHANNEL_ID_NAMEBABY'))\n",
    "openai.api_key = OPENAI_API_KEY\n",
    "\n",
    "intents = discord.Intents.default()\n",
    "intents.messages = True\n",
    "intents.message_content = True\n",
    "\n",
    "\n",
    "class Buttons(discord.ui.View):\n",
    "        def __init__(self, *, timeout=180):\n",
    "            super().__init__(timeout=timeout)\n",
    "        @discord.ui.button(label=\"Button\",style=discord.ButtonStyle.gray)\n",
    "        async def gray_button(self,button:discord.ui.Button,interaction:discord.Interaction):\n",
    "            await interaction.response.edit_message(content=f\"This is an edited button response!\")\n",
    "\n",
    "\n",
    "class ChatBot(discord.Client):\n",
    "    def __init__(self, *args, **kwargs):\n",
    "        super().__init__(*args, **kwargs)\n",
    "        self.model = \"gpt-3.5-turbo\"\n",
    "        self.system_prompt = \"\"\"You are a helpful assistant that provides new parents with baby name suggestions.\n",
    "                                Include an emoji at the end of your message\"\"\"\n",
    "        self.conversation_history = [] \n",
    "       \n",
    "    async def on_ready(self):\n",
    "        print(f'We have logged in as {self.user}')\n",
    "        target_channel = self.get_channel(TARGET_CHANNEL_ID)\n",
    "        if target_channel:\n",
    "            await target_channel.send(\"`namebaby` is online  💅 Type `/help` for a list of commands.\")\n",
    "        else:\n",
    "            print(\"Could not find the target channel.\")\n",
    "\n",
    "    async def on_message(self, message):\n",
    "        if message.author == self.user:\n",
    "            return\n",
    "\n",
    "        print(f\"incoming: {message.content}\")\n",
    "\n",
    "        if message.content.startswith(\"/help\") or message.content.startswith(\"/info\"):\n",
    "            # respond with current config\n",
    "            await message.channel.send(f\"**namebaby Config**\\nModel: {self.model}\\n\")\n",
    "        \n",
    "        elif message.content.startswith(\"/test\"):\n",
    "            await message.channel.send('test successful', view=Buttons())\n",
    "            \n",
    "        else:\n",
    "            assistant_response, self.conversation_history = ask_gpt(\n",
    "                model=self.model,\n",
    "                system_prompt=self.system_prompt,\n",
    "                question=message.content,\n",
    "                conversation_history=self.conversation_history,\n",
    "                max_history=3) \n",
    "            \n",
    "            print(f\"response: {assistant_response}\")\n",
    "            await message.channel.send(assistant_response)\n",
    "\n",
    "\n",
    "client = ChatBot(intents=intents)\n",
    "await client.start(DISCORD_TOKEN)"
   ]
  },
  {
   "cell_type": "code",
   "execution_count": null,
   "metadata": {},
   "outputs": [],
   "source": []
  }
 ],
 "metadata": {
  "kernelspec": {
   "display_name": "base",
   "language": "python",
   "name": "python3"
  },
  "language_info": {
   "codemirror_mode": {
    "name": "ipython",
    "version": 3
   },
   "file_extension": ".py",
   "mimetype": "text/x-python",
   "name": "python",
   "nbconvert_exporter": "python",
   "pygments_lexer": "ipython3",
   "version": "3.10.9"
  },
  "orig_nbformat": 4
 },
 "nbformat": 4,
 "nbformat_minor": 2
}
