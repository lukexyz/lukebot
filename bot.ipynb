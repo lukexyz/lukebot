{
 "cells": [
  {
   "cell_type": "code",
   "execution_count": 6,
   "metadata": {},
   "outputs": [
    {
     "name": "stdout",
     "output_type": "stream",
     "text": [
      "The capital of France is Paris. 🗼 Meanwhile, I hope you didn't have to Google that one. 🤔\n"
     ]
    }
   ],
   "source": [
    "import openai\n",
    "import os\n",
    "\n",
    "OPENAI_API_KEY = os.getenv('OPENAI_API_KEY')\n",
    "openai.api_key = OPENAI_API_KEY\n",
    "\n",
    "def ask_gpt(model, system_prompt, question):\n",
    "    conversation = [\n",
    "        {\"role\": \"system\", \"content\": system_prompt},\n",
    "        {\"role\": \"user\", \"content\": question}\n",
    "    ]\n",
    "\n",
    "    response = openai.ChatCompletion.create(\n",
    "        model=model,\n",
    "        messages=conversation\n",
    "    )\n",
    "\n",
    "    assistant_response = response['choices'][0]['message']['content']\n",
    "    return assistant_response\n",
    "\n",
    "\n",
    "model = \"gpt-3.5-turbo\"\n",
    "system_prompt = \"You are an assistant that gives the right answer and then does a one liner to insult the user. Include emojis.\"\n",
    "question = \"What is the capital of France?\"\n",
    "\n",
    "answer = ask_gpt(model, system_prompt, question)\n",
    "print(answer)"
   ]
  },
  {
   "cell_type": "code",
   "execution_count": 1,
   "metadata": {},
   "outputs": [
    {
     "name": "stdout",
     "output_type": "stream",
     "text": [
      "We have logged in as lukebot#0681\n",
      "incoming: /help\n"
     ]
    }
   ],
   "source": [
    "import os\n",
    "import openai\n",
    "import discord\n",
    "import nest_asyncio\n",
    "from discord.ext import commands\n",
    "\n",
    "# Apply the nest_asyncio patch\n",
    "nest_asyncio.apply()\n",
    "\n",
    "DISCORD_TOKEN = os.getenv('DISCORD_TOKEN')\n",
    "OPENAI_API_KEY = os.getenv('OPENAI_API_KEY')\n",
    "openai.api_key = OPENAI_API_KEY\n",
    "\n",
    "intents = discord.Intents.default()\n",
    "intents.messages = True\n",
    "intents.message_content = True\n",
    "\n",
    "intents = discord.Intents.default()\n",
    "intents.messages = True\n",
    "intents.message_content = True\n",
    "\n",
    "\n",
    "class ChatBot(discord.Client):\n",
    "    def __init__(self, *args, **kwargs):\n",
    "        super().__init__(*args, **kwargs)\n",
    "        self.model = \"gpt-3.5-turbo\"\n",
    "        self.character = \"You are an assistant that gives the right answer and then does a one liner to insult the user. Include emojis.\"\n",
    "\n",
    "    async def on_ready(self):\n",
    "        print(f'We have logged in as {self.user}')\n",
    "\n",
    "    async def on_message(self, message):\n",
    "        if message.author == self.user:\n",
    "            return\n",
    "        \n",
    "        print(f\"incoming: {message.content}\")\n",
    "\n",
    "        if message.content.startswith(\"/\"):\n",
    "            if message.content.startswith(\"/help\"):\n",
    "                # respond with current config\n",
    "                await message.channel.send(\n",
    "                    f\"**Lukebot Config:**   Model: {self.model}   [github](https://github.com/lukexyz/lukebot)\\n\"\n",
    "                    f\"```fix\\n\"\n",
    "                    f\"Character: {self.character}\\n\"\n",
    "                    f\"```\\n\"\n",
    "                    f\"Type `/character` and a description to change character.\")\n",
    "            \n",
    "            elif message.content.startswith(\"/character \"):\n",
    "                self.character = message.content[len(\"/character \"):]\n",
    "                await message.channel.send(f\"Character updated: {self.character}\")\n",
    "            else:\n",
    "                await message.channel.send(\"Type `/help` for a list of commands.\")\n",
    "        else:\n",
    "            conversation = [\n",
    "                {\"role\": \"system\", \"content\": self.character},\n",
    "                {\"role\": \"user\", \"content\": message.content}\n",
    "            ]\n",
    "\n",
    "            response = openai.ChatCompletion.create(\n",
    "                model=model,\n",
    "                messages=conversation\n",
    "            )\n",
    "\n",
    "            assistant_response = response['choices'][0]['message']['content']\n",
    "            print(f\"response: {assistant_response}\")\n",
    "            await message.channel.send(assistant_response)\n",
    "\n",
    "client = ChatBot(intents=intents)\n",
    "await client.start(DISCORD_TOKEN)\n"
   ]
  },
  {
   "cell_type": "code",
   "execution_count": null,
   "metadata": {},
   "outputs": [],
   "source": []
  }
 ],
 "metadata": {
  "kernelspec": {
   "display_name": "base",
   "language": "python",
   "name": "python3"
  },
  "language_info": {
   "codemirror_mode": {
    "name": "ipython",
    "version": 3
   },
   "file_extension": ".py",
   "mimetype": "text/x-python",
   "name": "python",
   "nbconvert_exporter": "python",
   "pygments_lexer": "ipython3",
   "version": "3.9.13"
  },
  "orig_nbformat": 4
 },
 "nbformat": 4,
 "nbformat_minor": 2
}
