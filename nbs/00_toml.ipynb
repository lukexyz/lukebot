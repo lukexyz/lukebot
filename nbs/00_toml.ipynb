{
 "cells": [
  {
   "cell_type": "code",
   "execution_count": 16,
   "metadata": {},
   "outputs": [
    {
     "data": {
      "text/plain": [
       "{'title': 'TOML Example',\n",
       " 'owner': {'name': 'Lukexyz', 'date': '2023-06-01'},\n",
       " 'start': {'greeting': '`namebaby` is online  💅.',\n",
       "  'options': ['Button1', 'Button2', 'Button3'],\n",
       "  'config': {'location': 'home', 'state': 'active'},\n",
       "  'buttons': [{'name': 'Button1', 'action': 'Action1'},\n",
       "   {'name': 'Button2', 'action': 'Action2'},\n",
       "   {'name': 'Button3', 'action': 'Action3'}]}}"
      ]
     },
     "execution_count": 16,
     "metadata": {},
     "output_type": "execute_result"
    }
   ],
   "source": [
    "import toml\n",
    "from rich import print as rprint\n",
    "\n",
    "# Open the TOML configuration file and load it into a Python dictionary\n",
    "with open('config.toml', 'r') as f:\n",
    "    config = toml.load(f)\n",
    "\n",
    "config"
   ]
  },
  {
   "cell_type": "code",
   "execution_count": 17,
   "metadata": {},
   "outputs": [
    {
     "data": {
      "text/html": [
       "<pre style=\"white-space:pre;overflow-x:auto;line-height:normal;font-family:Menlo,'DejaVu Sans Mono',consolas,'Courier New',monospace\"><span style=\"font-weight: bold\">{</span>\n",
       "    <span style=\"color: #008000; text-decoration-color: #008000\">'title'</span>: <span style=\"color: #008000; text-decoration-color: #008000\">'TOML Example'</span>,\n",
       "    <span style=\"color: #008000; text-decoration-color: #008000\">'owner'</span>: <span style=\"font-weight: bold\">{</span><span style=\"color: #008000; text-decoration-color: #008000\">'name'</span>: <span style=\"color: #008000; text-decoration-color: #008000\">'Lukexyz'</span>, <span style=\"color: #008000; text-decoration-color: #008000\">'date'</span>: <span style=\"color: #008000; text-decoration-color: #008000\">'2023-06-01'</span><span style=\"font-weight: bold\">}</span>,\n",
       "    <span style=\"color: #008000; text-decoration-color: #008000\">'start'</span>: <span style=\"font-weight: bold\">{</span>\n",
       "        <span style=\"color: #008000; text-decoration-color: #008000\">'greeting'</span>: <span style=\"color: #008000; text-decoration-color: #008000\">'`namebaby` is online  💅.'</span>,\n",
       "        <span style=\"color: #008000; text-decoration-color: #008000\">'options'</span>: <span style=\"font-weight: bold\">[</span><span style=\"color: #008000; text-decoration-color: #008000\">'Button1'</span>, <span style=\"color: #008000; text-decoration-color: #008000\">'Button2'</span>, <span style=\"color: #008000; text-decoration-color: #008000\">'Button3'</span><span style=\"font-weight: bold\">]</span>,\n",
       "        <span style=\"color: #008000; text-decoration-color: #008000\">'config'</span>: <span style=\"font-weight: bold\">{</span><span style=\"color: #008000; text-decoration-color: #008000\">'location'</span>: <span style=\"color: #008000; text-decoration-color: #008000\">'home'</span>, <span style=\"color: #008000; text-decoration-color: #008000\">'state'</span>: <span style=\"color: #008000; text-decoration-color: #008000\">'active'</span><span style=\"font-weight: bold\">}</span>,\n",
       "        <span style=\"color: #008000; text-decoration-color: #008000\">'buttons'</span>: <span style=\"font-weight: bold\">[</span>\n",
       "            <span style=\"font-weight: bold\">{</span><span style=\"color: #008000; text-decoration-color: #008000\">'name'</span>: <span style=\"color: #008000; text-decoration-color: #008000\">'Button1'</span>, <span style=\"color: #008000; text-decoration-color: #008000\">'action'</span>: <span style=\"color: #008000; text-decoration-color: #008000\">'Action1'</span><span style=\"font-weight: bold\">}</span>,\n",
       "            <span style=\"font-weight: bold\">{</span><span style=\"color: #008000; text-decoration-color: #008000\">'name'</span>: <span style=\"color: #008000; text-decoration-color: #008000\">'Button2'</span>, <span style=\"color: #008000; text-decoration-color: #008000\">'action'</span>: <span style=\"color: #008000; text-decoration-color: #008000\">'Action2'</span><span style=\"font-weight: bold\">}</span>,\n",
       "            <span style=\"font-weight: bold\">{</span><span style=\"color: #008000; text-decoration-color: #008000\">'name'</span>: <span style=\"color: #008000; text-decoration-color: #008000\">'Button3'</span>, <span style=\"color: #008000; text-decoration-color: #008000\">'action'</span>: <span style=\"color: #008000; text-decoration-color: #008000\">'Action3'</span><span style=\"font-weight: bold\">}</span>\n",
       "        <span style=\"font-weight: bold\">]</span>\n",
       "    <span style=\"font-weight: bold\">}</span>\n",
       "<span style=\"font-weight: bold\">}</span>\n",
       "</pre>\n"
      ],
      "text/plain": [
       "\u001b[1m{\u001b[0m\n",
       "    \u001b[32m'title'\u001b[0m: \u001b[32m'TOML Example'\u001b[0m,\n",
       "    \u001b[32m'owner'\u001b[0m: \u001b[1m{\u001b[0m\u001b[32m'name'\u001b[0m: \u001b[32m'Lukexyz'\u001b[0m, \u001b[32m'date'\u001b[0m: \u001b[32m'2023-06-01'\u001b[0m\u001b[1m}\u001b[0m,\n",
       "    \u001b[32m'start'\u001b[0m: \u001b[1m{\u001b[0m\n",
       "        \u001b[32m'greeting'\u001b[0m: \u001b[32m'`namebaby` is online  💅.'\u001b[0m,\n",
       "        \u001b[32m'options'\u001b[0m: \u001b[1m[\u001b[0m\u001b[32m'Button1'\u001b[0m, \u001b[32m'Button2'\u001b[0m, \u001b[32m'Button3'\u001b[0m\u001b[1m]\u001b[0m,\n",
       "        \u001b[32m'config'\u001b[0m: \u001b[1m{\u001b[0m\u001b[32m'location'\u001b[0m: \u001b[32m'home'\u001b[0m, \u001b[32m'state'\u001b[0m: \u001b[32m'active'\u001b[0m\u001b[1m}\u001b[0m,\n",
       "        \u001b[32m'buttons'\u001b[0m: \u001b[1m[\u001b[0m\n",
       "            \u001b[1m{\u001b[0m\u001b[32m'name'\u001b[0m: \u001b[32m'Button1'\u001b[0m, \u001b[32m'action'\u001b[0m: \u001b[32m'Action1'\u001b[0m\u001b[1m}\u001b[0m,\n",
       "            \u001b[1m{\u001b[0m\u001b[32m'name'\u001b[0m: \u001b[32m'Button2'\u001b[0m, \u001b[32m'action'\u001b[0m: \u001b[32m'Action2'\u001b[0m\u001b[1m}\u001b[0m,\n",
       "            \u001b[1m{\u001b[0m\u001b[32m'name'\u001b[0m: \u001b[32m'Button3'\u001b[0m, \u001b[32m'action'\u001b[0m: \u001b[32m'Action3'\u001b[0m\u001b[1m}\u001b[0m\n",
       "        \u001b[1m]\u001b[0m\n",
       "    \u001b[1m}\u001b[0m\n",
       "\u001b[1m}\u001b[0m\n"
      ]
     },
     "metadata": {},
     "output_type": "display_data"
    }
   ],
   "source": [
    "print(config)"
   ]
  },
  {
   "cell_type": "code",
   "execution_count": null,
   "metadata": {},
   "outputs": [],
   "source": []
  }
 ],
 "metadata": {
  "kernelspec": {
   "display_name": "Python 3",
   "language": "python",
   "name": "python3"
  },
  "language_info": {
   "codemirror_mode": {
    "name": "ipython",
    "version": 3
   },
   "file_extension": ".py",
   "mimetype": "text/x-python",
   "name": "python",
   "nbconvert_exporter": "python",
   "pygments_lexer": "ipython3",
   "version": "3.10.4"
  },
  "orig_nbformat": 4
 },
 "nbformat": 4,
 "nbformat_minor": 2
}
