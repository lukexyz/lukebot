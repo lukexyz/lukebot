{
 "cells": [
  {
   "attachments": {},
   "cell_type": "markdown",
   "id": "9efdc00d",
   "metadata": {},
   "source": [
    "# 🦜🔗 Langchain Q&A: Book"
   ]
  },
  {
   "cell_type": "code",
   "execution_count": 1,
   "id": "5da1c114",
   "metadata": {},
   "outputs": [],
   "source": [
    "# !pip install langchain\n",
    "# !pip install unstructured\n",
    "# !pip install pdfminer.six"
   ]
  },
  {
   "cell_type": "code",
   "execution_count": 2,
   "id": "2d3e92ed",
   "metadata": {},
   "outputs": [],
   "source": [
    "from langchain.document_loaders import UnstructuredPDFLoader, OnlinePDFLoader\n",
    "from langchain.text_splitter import RecursiveCharacterTextSplitter"
   ]
  },
  {
   "attachments": {},
   "cell_type": "markdown",
   "id": "5166d759",
   "metadata": {},
   "source": [
    "### 1. Load your data"
   ]
  },
  {
   "cell_type": "code",
   "execution_count": 3,
   "id": "b4a2d6bf",
   "metadata": {},
   "outputs": [],
   "source": [
    "loader = UnstructuredPDFLoader(\"data/field-guide-to-data-science.pdf\")\n",
    "# loader = OnlinePDFLoader(\"https://wolfpaulus.com/wp-content/uploads/2017/05/field-guide-to-data-science.pdf\")"
   ]
  },
  {
   "cell_type": "code",
   "execution_count": 4,
   "id": "bcdac23c",
   "metadata": {},
   "outputs": [
    {
     "name": "stderr",
     "output_type": "stream",
     "text": [
      "detectron2 is not installed. Cannot use the hi_res partitioning strategy. Falling back to partitioning with the fast strategy.\n"
     ]
    }
   ],
   "source": [
    "data = loader.load()"
   ]
  },
  {
   "cell_type": "code",
   "execution_count": 5,
   "id": "b4fd7c9e",
   "metadata": {},
   "outputs": [
    {
     "name": "stdout",
     "output_type": "stream",
     "text": [
      "You have 1 document(s) in your data\n",
      "There are 201014 characters in your document\n"
     ]
    }
   ],
   "source": [
    "print (f'You have {len(data)} document(s) in your data')\n",
    "print (f'There are {len(data[0].page_content)} characters in your document')"
   ]
  },
  {
   "attachments": {},
   "cell_type": "markdown",
   "id": "8af9b604",
   "metadata": {},
   "source": [
    "### 2. Chunk your data up into smaller documents"
   ]
  },
  {
   "cell_type": "code",
   "execution_count": 6,
   "id": "fb3c6f02",
   "metadata": {},
   "outputs": [],
   "source": [
    "text_splitter = RecursiveCharacterTextSplitter(chunk_size=1000, chunk_overlap=0)\n",
    "texts = text_splitter.split_documents(data)"
   ]
  },
  {
   "cell_type": "code",
   "execution_count": 7,
   "id": "879873a4",
   "metadata": {},
   "outputs": [
    {
     "name": "stdout",
     "output_type": "stream",
     "text": [
      "Now you have 240 documents\n"
     ]
    }
   ],
   "source": [
    "print (f'Now you have {len(texts)} documents')"
   ]
  },
  {
   "cell_type": "code",
   "execution_count": 8,
   "id": "8ec042a4",
   "metadata": {},
   "outputs": [
    {
     "data": {
      "text/plain": [
       "Document(page_content='FOREWORDData Science touches every aspect of our lives on a daily basis. When we visit the doctor, drive our cars, get on an airplane, or shop for services, Data Science is changing the way we interact with and explore  our world.  Our world is now measured, mapped, and recorded in digital bits. Entire lives, from birth to death, are now catalogued in the digital realm. These data, originating from such diverse sources as connected vehicles, underwater microscopic cameras, and photos we post to social media, have propelled us into the greatest age of discovery humanity has ever known. It is through Data Science that we are unlocking the secrets hidden within these data. We are making discoveries that will forever change how we live and interact with the world around us. The impact of these changes is having a profound effect on humanity. We have propelled ourselves into this age of discovery through our incremental technological improvements. Data Science has become the catalyzing', metadata={'source': 'data/field-guide-to-data-science.pdf'})"
      ]
     },
     "execution_count": 8,
     "metadata": {},
     "output_type": "execute_result"
    }
   ],
   "source": [
    "texts[1]"
   ]
  },
  {
   "cell_type": "markdown",
   "id": "838b2843",
   "metadata": {},
   "source": [
    "### Create embeddings of your documents to get ready for semantic search"
   ]
  },
  {
   "cell_type": "code",
   "execution_count": 9,
   "id": "d0b9e154",
   "metadata": {},
   "outputs": [],
   "source": [
    "#!pip install pinecone-client"
   ]
  },
  {
   "cell_type": "code",
   "execution_count": 10,
   "id": "373e695a",
   "metadata": {},
   "outputs": [
    {
     "name": "stderr",
     "output_type": "stream",
     "text": [
      "c:\\Users\\lwoods\\python\\anaconda3\\envs\\searchmagic\\lib\\site-packages\\pinecone\\index.py:4: TqdmExperimentalWarning: Using `tqdm.autonotebook.tqdm` in notebook mode. Use `tqdm.tqdm` instead to force console mode (e.g. in jupyter console)\n",
      "  from tqdm.autonotebook import tqdm\n"
     ]
    }
   ],
   "source": [
    "from langchain.vectorstores import Chroma, Pinecone\n",
    "from langchain.embeddings.openai import OpenAIEmbeddings\n",
    "import pinecone"
   ]
  },
  {
   "cell_type": "code",
   "execution_count": 11,
   "id": "0e093ef3",
   "metadata": {
    "hide_input": false
   },
   "outputs": [],
   "source": [
    "import os\n",
    "OPENAI_API_KEY = os.getenv('OPENAI_API_KEY')\n",
    "PINECONE_API_KEY = os.getenv('PINECONE_API_KEY')  # find at app.pinecone.io\n",
    "PINECONE_API_ENV = 'us-west4-gcp'"
   ]
  },
  {
   "cell_type": "code",
   "execution_count": 12,
   "id": "4e0d1c6a",
   "metadata": {},
   "outputs": [],
   "source": [
    "embeddings = OpenAIEmbeddings(openai_api_key=OPENAI_API_KEY)"
   ]
  },
  {
   "cell_type": "code",
   "execution_count": 13,
   "id": "0deb2f6a",
   "metadata": {},
   "outputs": [],
   "source": [
    "# initialize pinecone\n",
    "pinecone.init(\n",
    "    api_key=PINECONE_API_KEY,  \n",
    "    environment=PINECONE_API_ENV \n",
    ")\n",
    "index_name = \"langchain2\""
   ]
  },
  {
   "cell_type": "code",
   "execution_count": 14,
   "id": "388988ce",
   "metadata": {},
   "outputs": [],
   "source": [
    "# build embeddings\n",
    "docsearch = Pinecone.from_texts([t.page_content for t in texts], embeddings, index_name=index_name)"
   ]
  },
  {
   "attachments": {},
   "cell_type": "markdown",
   "id": "3c35dcd9",
   "metadata": {},
   "source": [
    "### 📖 Query `pinecone` embeddings to get Q&A response"
   ]
  },
  {
   "cell_type": "code",
   "execution_count": 30,
   "id": "f051337b",
   "metadata": {},
   "outputs": [],
   "source": [
    "from langchain.llms import OpenAI\n",
    "from langchain.chains.question_answering import load_qa_chain\n",
    "\n",
    "llm = OpenAI(temperature=0, openai_api_key=OPENAI_API_KEY)\n",
    "chain = load_qa_chain(llm, chain_type=\"stuff\")"
   ]
  },
  {
   "cell_type": "code",
   "execution_count": 31,
   "id": "d8c42ac1",
   "metadata": {},
   "outputs": [
    {
     "data": {
      "text/plain": [
       "' The weight of the ox was 1,198 pounds, and the method used to measure it was to collect the guesses of the 787 entrants and compute the mean.'"
      ]
     },
     "execution_count": 31,
     "metadata": {},
     "output_type": "execute_result"
    }
   ],
   "source": [
    "query = \"What was the weight of the ox, and what methods can be used to measure it\"\n",
    "docs = docsearch.similarity_search(query, include_metadata=True)\n",
    "\n",
    "chain.run(input_documents=docs, question=query)"
   ]
  },
  {
   "cell_type": "code",
   "execution_count": 32,
   "id": "3dfd2b7d",
   "metadata": {},
   "outputs": [
    {
     "data": {
      "text/plain": [
       "' No, simpler methods can often provide the same insight and are easier and faster to prototype, implement, and verify.'"
      ]
     },
     "execution_count": 32,
     "metadata": {},
     "output_type": "execute_result"
    }
   ],
   "source": [
    "query = \"Are highly complex methods preferred over simpler ones?\"\n",
    "docs = docsearch.similarity_search(query, include_metadata=True)\n",
    "\n",
    "chain.run(input_documents=docs, question=query)"
   ]
  },
  {
   "cell_type": "code",
   "execution_count": 33,
   "id": "485bc94c",
   "metadata": {},
   "outputs": [
    {
     "data": {
      "text/plain": [
       "' You can email the author at data_science@bah.com.'"
      ]
     },
     "execution_count": 33,
     "metadata": {},
     "output_type": "execute_result"
    }
   ],
   "source": [
    "query = \"What email can I use to contact the author\"\n",
    "docs = docsearch.similarity_search(query, include_metadata=True)\n",
    "chain.run(input_documents=docs, question=query)"
   ]
  },
  {
   "cell_type": "code",
   "execution_count": 52,
   "id": "0861d888",
   "metadata": {},
   "outputs": [
    {
     "data": {
      "text/html": [
       "<pre style=\"white-space:pre;overflow-x:auto;line-height:normal;font-family:Menlo,'DejaVu Sans Mono',consolas,'Courier New',monospace\">\n",
       "<span style=\"color: #008080; text-decoration-color: #008080; font-weight: bold\">1</span>. <span style=\"font-weight: bold\">Critical Thinking</span>: To help children develop the ability to think for themselves.\n",
       "<span style=\"color: #008080; text-decoration-color: #008080; font-weight: bold\">2</span>. <span style=\"font-weight: bold\">Creativity</span>: To help children express themselves and come up with new ideas.\n",
       "<span style=\"color: #008080; text-decoration-color: #008080; font-weight: bold\">3</span>. <span style=\"font-weight: bold\">Problem Solving</span>: To help children develop the skills to solve problems.\n",
       "<span style=\"color: #008080; text-decoration-color: #008080; font-weight: bold\">4</span>. <span style=\"font-weight: bold\">Communication</span>: To help children learn how to effectively communicate with others.\n",
       "<span style=\"color: #008080; text-decoration-color: #008080; font-weight: bold\">5</span>. <span style=\"font-weight: bold\">Collaboration</span>: To help children learn how to work together and share ideas.\n",
       "</pre>\n"
      ],
      "text/plain": [
       "\n",
       "\u001b[1;36m1\u001b[0m. \u001b[1mCritical Thinking\u001b[0m: To help children develop the ability to think for themselves.\n",
       "\u001b[1;36m2\u001b[0m. \u001b[1mCreativity\u001b[0m: To help children express themselves and come up with new ideas.\n",
       "\u001b[1;36m3\u001b[0m. \u001b[1mProblem Solving\u001b[0m: To help children develop the skills to solve problems.\n",
       "\u001b[1;36m4\u001b[0m. \u001b[1mCommunication\u001b[0m: To help children learn how to effectively communicate with others.\n",
       "\u001b[1;36m5\u001b[0m. \u001b[1mCollaboration\u001b[0m: To help children learn how to work together and share ideas.\n"
      ]
     },
     "metadata": {},
     "output_type": "display_data"
    }
   ],
   "source": [
    "from rich.jupyter import print\n",
    "\n",
    "query = \"What are the 5 best skills to teach children, with a short sentence on why. Answer in a list with new lines. Use bold tags for the skills (i.e 1. [bold]bold[/bold]: Response)\"\n",
    "docs = docsearch.similarity_search(query, include_metadata=True)\n",
    "ret = chain.run(input_documents=docs, question=query)\n",
    "print(ret)"
   ]
  },
  {
   "cell_type": "code",
   "execution_count": 39,
   "id": "91b3c1b0",
   "metadata": {},
   "outputs": [
    {
     "data": {
      "text/plain": [
       "[Document(page_content='and fill them to avoid surprises. Grammar, spelling and graphics matter; your audience will lose confidence in your analysis if your results look sloppy. ›Where would we head next? No analysis is ever finished, you just run out of resources. Understand and explain what additional measures could  be taken if more resources  are found. » Tips From the ProsBetter a short pencil than a long memory. End every day by documenting where you are; you may learn something along the way. Document what you learned and why you changed your plan. » Tips From the ProsTest your answers with a friendly audience to make sure your ﬁndings hold water. 51Take off the Training Wheels', metadata={}),\n",
       " Document(page_content='and fill them to avoid surprises. Grammar, spelling and graphics matter; your audience will lose confidence in your analysis if your results look sloppy. ›Where would we head next? No analysis is ever finished, you just run out of resources. Understand and explain what additional measures could  be taken if more resources  are found. » Tips From the ProsBetter a short pencil than a long memory. End every day by documenting where you are; you may learn something along the way. Document what you learned and why you changed your plan. » Tips From the ProsTest your answers with a friendly audience to make sure your ﬁndings hold water. 51Take off the Training Wheels', metadata={}),\n",
       " Document(page_content='among  the five dimensions is an art that must be learned over time.As we compiled this section, we talked extensively about ways to group and classify implementation constraints. After much discussion we settled on these five dimensions. We present this model in hopes  that others weigh in and offer  their own perspectives.Balancing the Five Analytic Dimensions Source: Booz Allen Hamilton 69Take off the Training Wheels', metadata={}),\n",
       " Document(page_content='among  the five dimensions is an art that must be learned over time.As we compiled this section, we talked extensively about ways to group and classify implementation constraints. After much discussion we settled on these five dimensions. We present this model in hopes  that others weigh in and offer  their own perspectives.Balancing the Five Analytic Dimensions Source: Booz Allen Hamilton 69Take off the Training Wheels', metadata={}),\n",
       " Document(page_content='Steven Mills (@stevndmills)Data Science truly can change the world.Stephanie Beben(@boozallen)Begin every new data challenge with deep curiosity along with a healthy dose of skepticism.Alex Cosmas (@boozallen)Data scientists should be truth-seekers, not fact-seekers.Kirk Borne(@KirkDBorne)Focus on value, not volume.Brian Keller (@boozallen)Grit will get you farther than talent.Drew Farris (@drewfarris)Don’t forget to play. Play with tools, play with data, and play with algorithms. You just might discover something that will help you solve that next nagging problem. 13Meet Your Guides', metadata={})]"
      ]
     },
     "execution_count": 39,
     "metadata": {},
     "output_type": "execute_result"
    }
   ],
   "source": [
    "docs"
   ]
  },
  {
   "cell_type": "code",
   "execution_count": null,
   "id": "a89878e5",
   "metadata": {},
   "outputs": [],
   "source": []
  },
  {
   "cell_type": "code",
   "execution_count": null,
   "id": "ff8fa395",
   "metadata": {},
   "outputs": [],
   "source": []
  }
 ],
 "metadata": {
  "kernelspec": {
   "display_name": "Python 3 (ipykernel)",
   "language": "python",
   "name": "python3"
  },
  "language_info": {
   "codemirror_mode": {
    "name": "ipython",
    "version": 3
   },
   "file_extension": ".py",
   "mimetype": "text/x-python",
   "name": "python",
   "nbconvert_exporter": "python",
   "pygments_lexer": "ipython3",
   "version": "3.10.10"
  }
 },
 "nbformat": 4,
 "nbformat_minor": 5
}
