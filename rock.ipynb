{
 "cells": [
  {
   "attachments": {},
   "cell_type": "markdown",
   "metadata": {},
   "source": [
    "Rock Paper Scissors  \n",
    "\n",
    "from https://moddingtutorials.org/discordbots/RockPaperScissors/"
   ]
  },
  {
   "cell_type": "code",
   "execution_count": 1,
   "metadata": {},
   "outputs": [],
   "source": [
    "import os\n",
    "import openai\n",
    "import nest_asyncio\n",
    "from IPython.display import Markdown\n",
    "\n",
    "# Apply the nest_asyncio patch+\n",
    "nest_asyncio.apply()\n",
    "\n",
    "DISCORD_TOKEN = os.getenv('DISCORD_TOKEN_NAMEBABY')\n",
    "OPENAI_API_KEY = os.getenv('OPENAI_API_KEY')\n",
    "TARGET_CHANNEL_ID = int(os.getenv('DISCORD_CHANNEL_ID_NAMEBABY'))\n",
    "\n",
    "import discord\n",
    "from discord.ext import commands \n",
    "from discord.ui import Button, View"
   ]
  },
  {
   "cell_type": "code",
   "execution_count": 43,
   "metadata": {},
   "outputs": [],
   "source": [
    "class Selection:\n",
    "    def __init__(self, name):\n",
    "        self.name = name\n",
    "\n",
    "    def ties(self, other):\n",
    "        return self.name == other.name\n",
    "\n",
    "    def beats(self, other):\n",
    "        if self.name == \"rock\":\n",
    "            return other.name == \"scissors\"\n",
    "        elif self.name == \"paper\":\n",
    "            return other.name == \"rock\"\n",
    "        elif self.name == \"scissors\":\n",
    "            return other.name == \"paper\"\n"
   ]
  },
  {
   "cell_type": "code",
   "execution_count": 50,
   "metadata": {},
   "outputs": [
    {
     "data": {
      "text/plain": [
       "True"
      ]
     },
     "execution_count": 50,
     "metadata": {},
     "output_type": "execute_result"
    }
   ],
   "source": [
    "rock = Selection(\"rock\")\n",
    "paper = Selection(\"paper\")\n",
    "scissors = Selection(\"scissors\")\n",
    "\n",
    "paper.beats(rock)"
   ]
  },
  {
   "cell_type": "code",
   "execution_count": 51,
   "metadata": {},
   "outputs": [
    {
     "data": {
      "text/plain": [
       "False"
      ]
     },
     "execution_count": 51,
     "metadata": {},
     "output_type": "execute_result"
    }
   ],
   "source": [
    "scissors.beats(scissors)"
   ]
  },
  {
   "cell_type": "code",
   "execution_count": 52,
   "metadata": {},
   "outputs": [],
   "source": [
    "# Test the ties method\n",
    "assert rock.ties(rock) == True\n",
    "assert rock.ties(paper) == False\n",
    "assert rock.ties(scissors) == False\n",
    "\n",
    "# Test the beats method\n",
    "assert rock.beats(scissors) == True\n",
    "assert rock.beats(paper) == False\n",
    "assert rock.beats(rock) == False"
   ]
  },
  {
   "cell_type": "code",
   "execution_count": null,
   "metadata": {},
   "outputs": [],
   "source": []
  },
  {
   "cell_type": "code",
   "execution_count": null,
   "metadata": {},
   "outputs": [],
   "source": []
  },
  {
   "cell_type": "code",
   "execution_count": null,
   "metadata": {},
   "outputs": [],
   "source": []
  },
  {
   "cell_type": "code",
   "execution_count": null,
   "metadata": {},
   "outputs": [],
   "source": []
  },
  {
   "cell_type": "code",
   "execution_count": null,
   "metadata": {},
   "outputs": [],
   "source": []
  },
  {
   "cell_type": "code",
   "execution_count": null,
   "metadata": {},
   "outputs": [],
   "source": []
  }
 ],
 "metadata": {
  "kernelspec": {
   "display_name": "Python 3",
   "language": "python",
   "name": "python3"
  },
  "language_info": {
   "codemirror_mode": {
    "name": "ipython",
    "version": 3
   },
   "file_extension": ".py",
   "mimetype": "text/x-python",
   "name": "python",
   "nbconvert_exporter": "python",
   "pygments_lexer": "ipython3",
   "version": "3.10.9"
  },
  "orig_nbformat": 4
 },
 "nbformat": 4,
 "nbformat_minor": 2
}
